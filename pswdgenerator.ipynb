{
 "cells": [
  {
   "cell_type": "code",
   "execution_count": 20,
   "id": "96290da2",
   "metadata": {},
   "outputs": [
    {
     "name": "stdout",
     "output_type": "stream",
     "text": [
      "\t\t\t***Password Generator***\t\t\t\t\n",
      "Enter length of password:9\n",
      "Your password is:d&XgUrVPp\n"
     ]
    }
   ],
   "source": [
    "import random\n",
    "print(\"\\t\\t\\t***Password Generator***\\t\\t\\t\\t\")\n",
    "char='abcdefghijklmnopqrstuvwxyzABCDEFGHIJKLMNOPQRSTUVWXYZ'\n",
    "sym='!@#$%^&*?/\\_'\n",
    "integer='0123456789'\n",
    "length=int(input(\"Enter length of password:\"))\n",
    "password=\"\"\n",
    "combination=char+sym+integer\n",
    "password=password.join(random.sample(combination,length))\n",
    "print(\"Your password is:\"+password)"
   ]
  },
  {
   "cell_type": "code",
   "execution_count": null,
   "id": "3e2f16f8",
   "metadata": {},
   "outputs": [],
   "source": []
  },
  {
   "cell_type": "code",
   "execution_count": null,
   "id": "ccf24696",
   "metadata": {},
   "outputs": [],
   "source": []
  }
 ],
 "metadata": {
  "kernelspec": {
   "display_name": "Python 3 (ipykernel)",
   "language": "python",
   "name": "python3"
  },
  "language_info": {
   "codemirror_mode": {
    "name": "ipython",
    "version": 3
   },
   "file_extension": ".py",
   "mimetype": "text/x-python",
   "name": "python",
   "nbconvert_exporter": "python",
   "pygments_lexer": "ipython3",
   "version": "3.11.4"
  }
 },
 "nbformat": 4,
 "nbformat_minor": 5
}
